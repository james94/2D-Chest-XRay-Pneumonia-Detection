{
 "cells": [
  {
   "cell_type": "markdown",
   "metadata": {},
   "source": [
    "# Project: 2D Chest X-Ray Pneumonia Detection\n",
    "\n",
    "## Exploratory Data Analysis"
   ]
  },
  {
   "cell_type": "code",
   "execution_count": 96,
   "metadata": {},
   "outputs": [],
   "source": [
    "import numpy as np # linear algebra\n",
    "import pandas as pd # data processing, CSV file I/O (e.g. pd.read_csv)\n",
    "import os\n",
    "from glob import glob\n",
    "%matplotlib inline\n",
    "import matplotlib.pyplot as plt\n",
    "import seaborn as sns\n",
    "\n",
    "##Import any other packages you may need here"
   ]
  },
  {
   "cell_type": "code",
   "execution_count": 97,
   "metadata": {},
   "outputs": [
    {
     "data": {
      "text/html": [
       "<div>\n",
       "<style scoped>\n",
       "    .dataframe tbody tr th:only-of-type {\n",
       "        vertical-align: middle;\n",
       "    }\n",
       "\n",
       "    .dataframe tbody tr th {\n",
       "        vertical-align: top;\n",
       "    }\n",
       "\n",
       "    .dataframe thead th {\n",
       "        text-align: right;\n",
       "    }\n",
       "</style>\n",
       "<table border=\"1\" class=\"dataframe\">\n",
       "  <thead>\n",
       "    <tr style=\"text-align: right;\">\n",
       "      <th></th>\n",
       "      <th>Image Index</th>\n",
       "      <th>Finding Labels</th>\n",
       "      <th>Follow-up #</th>\n",
       "      <th>Patient ID</th>\n",
       "      <th>Patient Age</th>\n",
       "      <th>Patient Gender</th>\n",
       "      <th>View Position</th>\n",
       "      <th>OriginalImageWidth</th>\n",
       "      <th>OriginalImageHeight</th>\n",
       "      <th>OriginalImagePixelSpacing_x</th>\n",
       "      <th>OriginalImagePixelSpacing_y</th>\n",
       "    </tr>\n",
       "  </thead>\n",
       "  <tbody>\n",
       "    <tr>\n",
       "      <th>1384</th>\n",
       "      <td>00007168_001.png</td>\n",
       "      <td>No Finding</td>\n",
       "      <td>1</td>\n",
       "      <td>7168</td>\n",
       "      <td>059Y</td>\n",
       "      <td>M</td>\n",
       "      <td>AP</td>\n",
       "      <td>2500</td>\n",
       "      <td>2048</td>\n",
       "      <td>0.171</td>\n",
       "      <td>0.171</td>\n",
       "    </tr>\n",
       "    <tr>\n",
       "      <th>3041</th>\n",
       "      <td>00014949_001.png</td>\n",
       "      <td>No Finding</td>\n",
       "      <td>1</td>\n",
       "      <td>14949</td>\n",
       "      <td>055Y</td>\n",
       "      <td>F</td>\n",
       "      <td>AP</td>\n",
       "      <td>2500</td>\n",
       "      <td>2048</td>\n",
       "      <td>0.168</td>\n",
       "      <td>0.168</td>\n",
       "    </tr>\n",
       "    <tr>\n",
       "      <th>1325</th>\n",
       "      <td>00006952_006.png</td>\n",
       "      <td>No Finding</td>\n",
       "      <td>6</td>\n",
       "      <td>6952</td>\n",
       "      <td>030Y</td>\n",
       "      <td>M</td>\n",
       "      <td>AP</td>\n",
       "      <td>2048</td>\n",
       "      <td>2500</td>\n",
       "      <td>0.168</td>\n",
       "      <td>0.168</td>\n",
       "    </tr>\n",
       "  </tbody>\n",
       "</table>\n",
       "</div>"
      ],
      "text/plain": [
       "           Image Index Finding Labels  Follow-up #  Patient ID Patient Age  \\\n",
       "1384  00007168_001.png     No Finding            1        7168        059Y   \n",
       "3041  00014949_001.png     No Finding            1       14949        055Y   \n",
       "1325  00006952_006.png     No Finding            6        6952        030Y   \n",
       "\n",
       "     Patient Gender View Position  OriginalImageWidth  OriginalImageHeight  \\\n",
       "1384              M            AP                2500                 2048   \n",
       "3041              F            AP                2500                 2048   \n",
       "1325              M            AP                2048                 2500   \n",
       "\n",
       "      OriginalImagePixelSpacing_x  OriginalImagePixelSpacing_y  \n",
       "1384                        0.171                        0.171  \n",
       "3041                        0.168                        0.168  \n",
       "1325                        0.168                        0.168  "
      ]
     },
     "execution_count": 97,
     "metadata": {},
     "output_type": "execute_result"
    }
   ],
   "source": [
    "## Below is some helper code to read all of your full image filepaths into a dataframe for easier manipulation\n",
    "\n",
    "# all_xray_df = pd.read_csv('/data/Data_Entry_2017.csv')\n",
    "# all_xray_df.sample(3)\n",
    "\n",
    "data_sample = pd.read_csv('sample_labels.csv')\n",
    "# data_sample_y_train = data_sample['Finding Labels']\n",
    "data_sample.sample(3)\n"
   ]
  },
  {
   "cell_type": "markdown",
   "metadata": {},
   "source": [
    "EDA is open-ended, and it is up to you to decide how to look at different ways to slice and dice your data. A good starting point is to look at the requirements for the FDA documentation in the final part of this project to guide (some) of the analyses you do. \n",
    "\n",
    "This EDA should also help to inform you of how pneumonia looks in the wild. E.g. what other types of diseases it's commonly found with, how often it is found, what ages it affects, etc. \n",
    "\n",
    "Note that this NIH dataset was not specifically acquired for pneumonia. So, while this is a representation of 'pneumonia in the wild,' the prevalence of pneumonia may be different if you were to take only chest x-rays that were acquired in an ER setting with suspicion of pneumonia. "
   ]
  },
  {
   "cell_type": "markdown",
   "metadata": {},
   "source": [
    "Also, **describe your findings and how will you set up the model training based on the findings.**"
   ]
  },
  {
   "cell_type": "code",
   "execution_count": null,
   "metadata": {},
   "outputs": [],
   "source": [
    "## EDA\n",
    "# Column Names\n",
    "# Image Index,Finding Labels,Follow-up #,\n",
    "00000013_005.png,Emphysema|Infiltration|Pleural_Thickening|Pneumothorax,005,\n",
    "# Patient ID,Patient Age,Patient Gender,View Position,\n",
    "00000013,060Y,M,AP,\n",
    "# OriginalImageWidth,OriginalImageHeight,OriginalImagePixelSpacing_x,OriginalImagePixelSpacing_y\n",
    "3056,2544,0.139,0.139"
   ]
  },
  {
   "cell_type": "markdown",
   "metadata": {},
   "source": [
    "## Dataset Summary"
   ]
  },
  {
   "cell_type": "code",
   "execution_count": 98,
   "metadata": {},
   "outputs": [
    {
     "data": {
      "text/plain": [
       "5606"
      ]
     },
     "execution_count": 98,
     "metadata": {},
     "output_type": "execute_result"
    }
   ],
   "source": [
    "# Number of sample labels: 5606\n",
    "n_sample_labels = len(data_sample)\n",
    "n_sample_labels"
   ]
  },
  {
   "cell_type": "markdown",
   "metadata": {},
   "source": [
    "## Patient Demographic\n",
    "\n",
    "Gender, age, patient position, etc"
   ]
  },
  {
   "cell_type": "code",
   "execution_count": 99,
   "metadata": {},
   "outputs": [
    {
     "data": {
      "text/html": [
       "<div>\n",
       "<style scoped>\n",
       "    .dataframe tbody tr th:only-of-type {\n",
       "        vertical-align: middle;\n",
       "    }\n",
       "\n",
       "    .dataframe tbody tr th {\n",
       "        vertical-align: top;\n",
       "    }\n",
       "\n",
       "    .dataframe thead th {\n",
       "        text-align: right;\n",
       "    }\n",
       "</style>\n",
       "<table border=\"1\" class=\"dataframe\">\n",
       "  <thead>\n",
       "    <tr style=\"text-align: right;\">\n",
       "      <th></th>\n",
       "      <th>Patient Gender</th>\n",
       "      <th>Patient Age</th>\n",
       "      <th>View Position</th>\n",
       "    </tr>\n",
       "  </thead>\n",
       "  <tbody>\n",
       "    <tr>\n",
       "      <th>0</th>\n",
       "      <td>M</td>\n",
       "      <td>060Y</td>\n",
       "      <td>AP</td>\n",
       "    </tr>\n",
       "    <tr>\n",
       "      <th>1</th>\n",
       "      <td>M</td>\n",
       "      <td>057Y</td>\n",
       "      <td>AP</td>\n",
       "    </tr>\n",
       "    <tr>\n",
       "      <th>2</th>\n",
       "      <td>M</td>\n",
       "      <td>077Y</td>\n",
       "      <td>AP</td>\n",
       "    </tr>\n",
       "    <tr>\n",
       "      <th>3</th>\n",
       "      <td>M</td>\n",
       "      <td>079Y</td>\n",
       "      <td>PA</td>\n",
       "    </tr>\n",
       "    <tr>\n",
       "      <th>4</th>\n",
       "      <td>F</td>\n",
       "      <td>055Y</td>\n",
       "      <td>AP</td>\n",
       "    </tr>\n",
       "    <tr>\n",
       "      <th>...</th>\n",
       "      <td>...</td>\n",
       "      <td>...</td>\n",
       "      <td>...</td>\n",
       "    </tr>\n",
       "    <tr>\n",
       "      <th>5601</th>\n",
       "      <td>M</td>\n",
       "      <td>058Y</td>\n",
       "      <td>PA</td>\n",
       "    </tr>\n",
       "    <tr>\n",
       "      <th>5602</th>\n",
       "      <td>F</td>\n",
       "      <td>061Y</td>\n",
       "      <td>AP</td>\n",
       "    </tr>\n",
       "    <tr>\n",
       "      <th>5603</th>\n",
       "      <td>F</td>\n",
       "      <td>052Y</td>\n",
       "      <td>PA</td>\n",
       "    </tr>\n",
       "    <tr>\n",
       "      <th>5604</th>\n",
       "      <td>F</td>\n",
       "      <td>010Y</td>\n",
       "      <td>PA</td>\n",
       "    </tr>\n",
       "    <tr>\n",
       "      <th>5605</th>\n",
       "      <td>M</td>\n",
       "      <td>024Y</td>\n",
       "      <td>PA</td>\n",
       "    </tr>\n",
       "  </tbody>\n",
       "</table>\n",
       "<p>5606 rows × 3 columns</p>\n",
       "</div>"
      ],
      "text/plain": [
       "     Patient Gender Patient Age View Position\n",
       "0                 M        060Y            AP\n",
       "1                 M        057Y            AP\n",
       "2                 M        077Y            AP\n",
       "3                 M        079Y            PA\n",
       "4                 F        055Y            AP\n",
       "...             ...         ...           ...\n",
       "5601              M        058Y            PA\n",
       "5602              F        061Y            AP\n",
       "5603              F        052Y            PA\n",
       "5604              F        010Y            PA\n",
       "5605              M        024Y            PA\n",
       "\n",
       "[5606 rows x 3 columns]"
      ]
     },
     "execution_count": 99,
     "metadata": {},
     "output_type": "execute_result"
    }
   ],
   "source": [
    "data_sample[['Patient Gender', 'Patient Age', 'View Position']]"
   ]
  },
  {
   "cell_type": "code",
   "execution_count": 100,
   "metadata": {},
   "outputs": [
    {
     "data": {
      "text/plain": [
       "<BarContainer object of 2 artists>"
      ]
     },
     "execution_count": 100,
     "metadata": {},
     "output_type": "execute_result"
    },
    {
     "data": {
      "image/png": "[encoded data removed]",
      "text/plain": [
       "<Figure size 432x288 with 1 Axes>"
      ]
     },
     "metadata": {
      "needs_background": "light"
     },
     "output_type": "display_data"
    }
   ],
   "source": [
    "gender_data = {}\n",
    "\n",
    "for gender in data_sample['Patient Gender']:\n",
    "    if gender not in gender_data:\n",
    "        gender_data[gender] = 0 # create key if doesnt exist\n",
    "    else:\n",
    "        gender_data[gender] += 1 # inc key's value\n",
    "\n",
    "plt.title(\"M & F Gender Bar Graph\")\n",
    "plt.xlabel(\"Gender\")\n",
    "plt.ylabel(\"Count\")\n",
    "plt.bar(gender_data.keys(), gender_data.values())"
   ]
  },
  {
   "cell_type": "markdown",
   "metadata": {},
   "source": [
    "## X-Ray Views Taken\n",
    "\n",
    "View position"
   ]
  },
  {
   "cell_type": "code",
   "execution_count": 101,
   "metadata": {},
   "outputs": [
    {
     "data": {
      "image/png": "[encoded data removed]",
      "text/plain": [
       "<Figure size 720x288 with 1 Axes>"
      ]
     },
     "metadata": {
      "needs_background": "light"
     },
     "output_type": "display_data"
    }
   ],
   "source": [
    "patient_age = []\n",
    "age_data = {}\n",
    "\n",
    "for age in data_sample[\"Patient Age\"]:\n",
    "    if \"Y\" in age:\n",
    "        temp_age = int(age.replace(\"Y\",\"\"))\n",
    "        patient_age.append(temp_age)\n",
    "\n",
    "\n",
    "        \n",
    "# filter for age in years, ignore age months and days\n",
    "for age in patient_age:\n",
    "    if age not in age_data:\n",
    "        age_data[age] = 0\n",
    "    elif age in age_data:\n",
    "        age_data[age] += 1\n",
    "        \n",
    "        \n",
    "plt.figure(figsize=(10,4))\n",
    "plt.title(\"Age Bar Graph\")\n",
    "plt.xlabel(\"Age in Years\")\n",
    "plt.ylabel(\"Number of People Per Age\")\n",
    "plt.bar(age_data.keys(), age_data.values())\n",
    "# pyplot zooming in: https://stackoverflow.com/questions/11400579/pyplot-zooming-in\n",
    "plt.axis([0, 100, 0, 180])\n",
    "plt.show()\n"
   ]
  },
  {
   "cell_type": "code",
   "execution_count": 102,
   "metadata": {},
   "outputs": [
    {
     "name": "stdout",
     "output_type": "stream",
     "text": [
      "view_pos = AP\n",
      "view_pos = PA\n"
     ]
    },
    {
     "data": {
      "text/plain": [
       "<BarContainer object of 2 artists>"
      ]
     },
     "execution_count": 102,
     "metadata": {},
     "output_type": "execute_result"
    },
    {
     "data": {
      "image/png": "[encoded data removed]",
      "text/plain": [
       "<Figure size 432x288 with 1 Axes>"
      ]
     },
     "metadata": {
      "needs_background": "light"
     },
     "output_type": "display_data"
    }
   ],
   "source": [
    "view_pos_data = {}\n",
    "\n",
    "# filter for view pos\n",
    "for view_pos in data_sample[\"View Position\"]:\n",
    "    if view_pos not in view_pos_data:\n",
    "        view_pos_data[view_pos] = 0\n",
    "        print(\"view_pos = {}\".format(view_pos))\n",
    "    elif age in age_data:\n",
    "        view_pos_data[view_pos] += 1\n",
    "        \n",
    "plt.title(\"AP & PA View Position Bar Graph\")\n",
    "plt.xlabel(\"View Position\")\n",
    "plt.ylabel(\"Count\")\n",
    "plt.bar(view_pos_data.keys(), view_pos_data.values())"
   ]
  },
  {
   "cell_type": "markdown",
   "metadata": {},
   "source": [
    "## Number of Cases\n",
    "\n",
    "Number of non-pneumonia cases vs pneumonia cases"
   ]
  },
  {
   "cell_type": "code",
   "execution_count": 103,
   "metadata": {},
   "outputs": [
    {
     "data": {
      "text/plain": [
       "<BarContainer object of 2 artists>"
      ]
     },
     "execution_count": 103,
     "metadata": {},
     "output_type": "execute_result"
    },
    {
     "data": {
      "image/png": "[encoded data removed]",
      "text/plain": [
       "<Figure size 432x288 with 1 Axes>"
      ]
     },
     "metadata": {
      "needs_background": "light"
     },
     "output_type": "display_data"
    }
   ],
   "source": [
    "pneumonia_data = {'No Finding': 0, 'Finding': 0}\n",
    "\n",
    "# filter for view pos\n",
    "for pneumonia in data_sample[\"Finding Labels\"]:\n",
    "    if pneumonia == 'No Finding':\n",
    "        pneumonia_data['No Finding'] += 1\n",
    "    else:\n",
    "        pneumonia_data['Finding'] += 1\n",
    "        \n",
    "plt.title(\"Pneumonia vs Non-pneumonia Bar Graph\")\n",
    "plt.xlabel(\"Pneumonia Labels\")\n",
    "plt.ylabel(\"Count\")\n",
    "plt.bar(pneumonia_data.keys(), pneumonia_data.values())"
   ]
  },
  {
   "cell_type": "markdown",
   "metadata": {},
   "source": [
    "## Distribution of Other Diseases\n",
    "\n",
    "Distribution of other diseases comorbid with pneumonia"
   ]
  },
  {
   "cell_type": "code",
   "execution_count": 106,
   "metadata": {},
   "outputs": [
    {
     "data": {
      "text/plain": [
       "<BarContainer object of 243 artists>"
      ]
     },
     "execution_count": 106,
     "metadata": {},
     "output_type": "execute_result"
    },
    {
     "data": {
      "image/png": "[encoded data removed]",
      "text/plain": [
       "<Figure size 432x288 with 1 Axes>"
      ]
     },
     "metadata": {
      "needs_background": "light"
     },
     "output_type": "display_data"
    }
   ],
   "source": [
    "pneumonia_type_data = {}\n",
    "\n",
    "# filter for view pos\n",
    "for pneumonia in data_sample[\"Finding Labels\"]:\n",
    "    if pneumonia != 'No Finding': # add comma separated delimiter \"|\"\n",
    "        if pneumonia not in pneumonia_type_data:\n",
    "            pneumonia_type_data[pneumonia] = 0\n",
    "        if pneumonia in pneumonia_type_data:\n",
    "            pneumonia_type_data[pneumonia] += 1\n",
    "        \n",
    "plt.title(\"Types of Pneumonia Bar Graph\")\n",
    "plt.xlabel(\"Pneumonia Labels\")\n",
    "plt.ylabel(\"Count\")\n",
    "plt.bar(pneumonia_type_data.keys(), pneumonia_type_data.values())"
   ]
  },
  {
   "cell_type": "markdown",
   "metadata": {},
   "source": [
    "## Number of Diseases Per Patient"
   ]
  },
  {
   "cell_type": "markdown",
   "metadata": {},
   "source": [
    "## Pixel-Level Assessments of Imaging Data\n",
    "\n",
    "Pixel-level assessments of imaging data for healthy & disease states of interest (ex: histograms of intensity values) and compare distributions across diseases"
   ]
  }
 ],
 "metadata": {
  "kernelspec": {
   "display_name": "Python 3 (ipykernel)",
   "language": "python",
   "name": "python3"
  },
  "language_info": {
   "codemirror_mode": {
    "name": "ipython",
    "version": 3
   },
   "file_extension": ".py",
   "mimetype": "text/x-python",
   "name": "python",
   "nbconvert_exporter": "python",
   "pygments_lexer": "ipython3",
   "version": "3.9.7"
  }
 },
 "nbformat": 4,
 "nbformat_minor": 2
}
